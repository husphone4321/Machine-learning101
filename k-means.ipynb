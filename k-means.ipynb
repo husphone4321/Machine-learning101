{
 "cells": [
  {
   "cell_type": "markdown",
   "id": "0cb794bd",
   "metadata": {},
   "source": [
    "k means algorithm\n"
   ]
  }
 ],
 "metadata": {
  "language_info": {
   "name": "python"
  }
 },
 "nbformat": 4,
 "nbformat_minor": 5
}
